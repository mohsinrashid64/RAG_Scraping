{
 "cells": [
  {
   "cell_type": "markdown",
   "metadata": {},
   "source": [
    "# Import Libraries"
   ]
  },
  {
   "cell_type": "code",
   "execution_count": 25,
   "metadata": {},
   "outputs": [
    {
     "data": {
      "text/plain": [
       "True"
      ]
     },
     "execution_count": 25,
     "metadata": {},
     "output_type": "execute_result"
    }
   ],
   "source": [
    "from langchain_community.llms import Ollama\n",
    "from langchain_community.embeddings import OllamaEmbeddings\n",
    "from langchain.chains import create_retrieval_chain\n",
    "from langchain.chains.combine_documents import create_stuff_documents_chain\n",
    "\n",
    "\n",
    "from langchain_community.document_loaders import TextLoader\n",
    "from langchain_text_splitters import CharacterTextSplitter\n",
    "from langchain.vectorstores.pgvector import PGVector\n",
    "\n",
    "from langchain.prompts import PromptTemplate\n",
    "\n",
    "import os\n",
    "from dotenv import load_dotenv\n",
    "load_dotenv()\n"
   ]
  },
  {
   "cell_type": "markdown",
   "metadata": {},
   "source": [
    "# Loading The LLM (Language Model)\n"
   ]
  },
  {
   "cell_type": "code",
   "execution_count": 26,
   "metadata": {},
   "outputs": [],
   "source": [
    "llm = Ollama(model=\"nuextract\", base_url=\"http://127.0.0.1:11434\")"
   ]
  },
  {
   "cell_type": "markdown",
   "metadata": {},
   "source": [
    "# Setting OpenAI Embeddings"
   ]
  },
  {
   "cell_type": "code",
   "execution_count": 27,
   "metadata": {},
   "outputs": [],
   "source": [
    "embed_model = OllamaEmbeddings(\n",
    "    model=\"nuextract\",\n",
    "    base_url='http://127.0.0.1:11434'\n",
    ")"
   ]
  },
  {
   "cell_type": "markdown",
   "metadata": {},
   "source": [
    "# Loading HTML Content"
   ]
  },
  {
   "cell_type": "code",
   "execution_count": 28,
   "metadata": {},
   "outputs": [],
   "source": [
    "loader = TextLoader(\"sample.html\",encoding='utf-8')\n",
    "documents = loader.load()"
   ]
  },
  {
   "cell_type": "code",
   "execution_count": 29,
   "metadata": {},
   "outputs": [
    {
     "data": {
      "text/plain": [
       "[Document(metadata={'source': 'sample.html'}, page_content='<!DOCTYPE html>\\n<html lang=\"en\">\\n<head>\\n    <meta charset=\"UTF-8\">\\n    <meta name=\"viewport\" content=\"width=device-width, initial-scale=1.0\">\\n    <meta name=\"description\" content=\"Learn about monkeys, their habitats, diets, and interesting facts.\">\\n    <title>All About Monkeys</title>\\n</head>\\n<body>\\n    <header>\\n        <h1>Monkeys: Fascinating Creatures of the Jungle</h1>\\n    </header>\\n\\n    <nav>\\n        <ul>\\n            <li><a href=\"#introduction\">Introduction</a></li>\\n            <li><a href=\"#habitat\">Habitat</a></li>\\n            <li><a href=\"#diet\">Diet</a></li>\\n            <li><a href=\"#fun-facts\">Fun Facts</a></li>\\n        </ul>\\n    </nav>\\n\\n    <section id=\"introduction\">\\n        <h2>Introduction</h2>\\n        <p>Monkeys are primates found in various parts of the world. Known for their intelligence and playful behavior, they are an integral part of tropical and subtropical ecosystems.</p>\\n        <p>There are over 260 species of monkeys, divided into two main groups: Old World monkeys, found primarily in Africa and Asia, and New World monkeys, found in Central and South America.</p>\\n    </section>\\n\\n    <section id=\"habitat\">\\n        <h2>Habitat</h2>\\n        <p>Monkeys thrive in diverse habitats ranging from rainforests to savannas. Most monkeys live in trees, although some, like baboons, spend more time on the ground.</p>\\n    </section>\\n\\n    <section id=\"diet\">\\n        <h2>Diet</h2>\\n        <p>Monkeys have varied diets that include fruits, leaves, seeds, nuts, flowers, and occasionally insects. Their diet changes based on the habitat and the availability of food sources.</p>\\n        <ul>\\n            <li>Fruits</li>\\n            <li>Leaves</li>\\n            <li>Seeds</li>\\n            <li>Insects</li>\\n        </ul>\\n    </section>\\n\\n    <section id=\"fun-facts\">\\n        <h2>Fun Facts</h2>\\n        <p>Here are some interesting facts about monkeys:</p>\\n        <ul>\\n            <li>Monkeys use tools like sticks to extract insects from tree bark.</li>\\n            <li>Some species are known to form complex social groups and communicate using various vocalizations.</li>\\n            <li>Monkeys have an excellent memory, which helps them locate food and recognize individuals within their group.</li>\\n        </ul>\\n    </section>\\n\\n    <footer>\\n        <p>&copy; 2024 Monkey Information Center</p>\\n    </footer>\\n</body>\\n</html>\\n')]"
      ]
     },
     "execution_count": 29,
     "metadata": {},
     "output_type": "execute_result"
    }
   ],
   "source": [
    "documents"
   ]
  },
  {
   "cell_type": "markdown",
   "metadata": {},
   "source": [
    "# Splitting Text Into Chunks"
   ]
  },
  {
   "cell_type": "code",
   "execution_count": 30,
   "metadata": {},
   "outputs": [],
   "source": [
    "text_splitter = CharacterTextSplitter(chunk_size=int(1e6), chunk_overlap=0)\n",
    "docs = text_splitter.split_documents(documents)"
   ]
  },
  {
   "cell_type": "markdown",
   "metadata": {},
   "source": [
    "# PgAI Stuff"
   ]
  },
  {
   "cell_type": "code",
   "execution_count": 33,
   "metadata": {},
   "outputs": [],
   "source": [
    "embeddings = embed_model\n",
    "connection_string = os.environ.get('POSTGRES_CONNECTION_STRING')\n",
    "collection_name = \"monkey\"\n",
    "vector_store = PGVector.from_documents(\n",
    "    embedding=embeddings,\n",
    "    collection_name=collection_name,\n",
    "    connection_string=os.environ.get('POSTGRES_CONNECTION_STRING'),\n",
    "    use_jsonb=True,\n",
    "    documents=docs\n",
    ")"
   ]
  },
  {
   "cell_type": "markdown",
   "metadata": {},
   "source": [
    "# Creating a Retriever\n"
   ]
  },
  {
   "cell_type": "code",
   "execution_count": 10,
   "metadata": {},
   "outputs": [],
   "source": [
    "retriever = vector_store.as_retriever(search_type=\"mmr\", search_kwargs={\"k\": 100})"
   ]
  },
  {
   "cell_type": "markdown",
   "metadata": {},
   "source": [
    "# Creating a Retrieval Chain\n"
   ]
  },
  {
   "cell_type": "code",
   "execution_count": 11,
   "metadata": {},
   "outputs": [],
   "source": [
    "chain = create_retrieval_chain(combine_docs_chain=llm,retriever=retriever)"
   ]
  },
  {
   "cell_type": "markdown",
   "metadata": {},
   "source": [
    "#  Retrieval-QA Chat Prompt\n"
   ]
  },
  {
   "cell_type": "code",
   "execution_count": null,
   "metadata": {},
   "outputs": [],
   "source": [
    "retrieval_qa_chat_prompt = PromptTemplate(\n",
    "    input_variables=[\"context\", \"input\"],\n",
    "    template = '''\n",
    "        %INSTRUCTIONS:\n",
    "        You are a professional web scraper specializing in extracting HTML elements and their content based on the specified context.\n",
    "\n",
    "        Please extract only the requested HTML tags and their contents according to the given context. Respond strictly in the following format:\n",
    "        <tag_name>content</tag_name>\n",
    "        ...\n",
    "\n",
    "        Do not include any additional text, explanations, or formatting outside of the specified structure.\n",
    "\n",
    "        %CONTEXT: \n",
    "        The type of tags or content to extract is as follows:\n",
    "        {context}\n",
    "\n",
    "        %PROMPT: \n",
    "        extract all of the following html tag/tags\n",
    "        {input}\n",
    "    '''\n",
    ")\n"
   ]
  },
  {
   "cell_type": "markdown",
   "metadata": {},
   "source": [
    "# Combining Documents\n"
   ]
  },
  {
   "cell_type": "code",
   "execution_count": 13,
   "metadata": {},
   "outputs": [],
   "source": [
    "combine_docs_chain = create_stuff_documents_chain(llm, retrieval_qa_chat_prompt)"
   ]
  },
  {
   "cell_type": "markdown",
   "metadata": {},
   "source": [
    "# Final Retrieval Chain\n"
   ]
  },
  {
   "cell_type": "code",
   "execution_count": 14,
   "metadata": {},
   "outputs": [],
   "source": [
    "retrieval_chain = create_retrieval_chain(retriever, combine_docs_chain)    "
   ]
  },
  {
   "cell_type": "markdown",
   "metadata": {},
   "source": [
    "# Invoking the Retrieval Chain\n"
   ]
  },
  {
   "cell_type": "code",
   "execution_count": null,
   "metadata": {},
   "outputs": [],
   "source": [
    "response = retrieval_chain.invoke({\"input\": \"<nav>content</nav>\"}) # Please enter the HTML tag you want to retrieve "
   ]
  },
  {
   "cell_type": "code",
   "execution_count": 18,
   "metadata": {},
   "outputs": [
    {
     "data": {
      "text/plain": [
       "' <nav><ul><li><a href=\"#introduction\">Introduction</a></li><li><a href=\"#habitat\">Habitat</a></li><li><a href=\"#diet\">Diet</a></li><li><a href=\"#fun-facts\">Fun Facts</a></li></ul></nav>\\n\\n'"
      ]
     },
     "execution_count": 18,
     "metadata": {},
     "output_type": "execute_result"
    }
   ],
   "source": [
    "response['answer']"
   ]
  }
 ],
 "metadata": {
  "kernelspec": {
   "display_name": ".venv",
   "language": "python",
   "name": "python3"
  },
  "language_info": {
   "codemirror_mode": {
    "name": "ipython",
    "version": 3
   },
   "file_extension": ".py",
   "mimetype": "text/x-python",
   "name": "python",
   "nbconvert_exporter": "python",
   "pygments_lexer": "ipython3",
   "version": "3.9.13"
  }
 },
 "nbformat": 4,
 "nbformat_minor": 2
}
